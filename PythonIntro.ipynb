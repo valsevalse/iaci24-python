{
 "cells": [
  {
   "cell_type": "markdown",
   "metadata": {},
   "source": [
    "# An Introduction To Scripting in Python 3\n",
    "By __[Hans van der Kwast](http://www.linkedin.com/in/jvdkwast)__<br>\n",
    "__[IHE Delft Institute for Water Education](http://www.un-ihe.org)__<br>\n",
    "Twitter: @hansakwast\n",
    "\n",
    "\n",
    "## Contents\n",
    "### __[Lesson 1: Very Simple Programs](PythonIntroCh1.ipynb)__\n",
    "### __[Lesson 2: Programs in a file, variables and strings](PythonIntroCh2.ipynb)__\n",
    "### __[Lesson 3: Loops, Loops, Loops, Loops...](PythonIntroCh3.ipynb)__\n",
    "### __[Lesson 4: Functions](PythonIntroCh4.ipynb)__\n",
    "### __[Lesson 5: Tuples, Lists, and Dictionaries](PythonIntroCh5.ipynb)__\n",
    "### __[Lesson 6: For Loop](PythonIntroCh6.ipynb)__\n",
    "### __[Lesson 7: Classes](PythonIntroCh7.ipynb)__\n",
    "### __[Lesson 8: Modules](PythonIntroCh8.ipynb)__\n",
    "### __[Lesson 9: File I/O](PythonIntroCh9.ipynb)__\n",
    "### __[Lesson 10: Exception Handling](PythonIntroCh10.ipynb)__\n",
    "<br>\n",
    "<br>\n",
    "\n",
    "*This Jupyter Notebook has been developed based on \"A Beginner's Python Tutorial\" by Steven Thurlow. The __[original material](https://github.com/stoive/pythontutorial)__ has been ported to Python 3.*\n",
    "\n",
    "*This work is licensed under the Creative Commons Attribution 2.5 Australia License. To view a copy of this license, visit http://creativecommons.org/licenses/by/2.5/au/ or send a letter to Creative Commons, 444 Castro Street, Suite 900, Mountain View, California, 94041, USA.*"
   ]
  }
 ],
 "metadata": {
  "kernelspec": {
   "display_name": "Python 3",
   "language": "python",
   "name": "python3"
  },
  "language_info": {
   "codemirror_mode": {
    "name": "ipython",
    "version": 3
   },
   "file_extension": ".py",
   "mimetype": "text/x-python",
   "name": "python",
   "nbconvert_exporter": "python",
   "pygments_lexer": "ipython3",
   "version": "3.6.5"
  }
 },
 "nbformat": 4,
 "nbformat_minor": 2
}
