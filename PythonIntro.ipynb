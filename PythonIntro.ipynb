{
 "cells": [
  {
   "cell_type": "markdown",
   "metadata": {},
   "source": [
    "# An Introduction To Scripting in Python 3\n",
    "\n",
    "\n",
    "\n",
    "## Contents\n",
    "### __[Lesson 1: Very Simple Programs](PythonIntroCh1.ipynb)__\n",
    "### __[Lesson 2: Programs in a file, variables and strings](PythonIntroCh2.ipynb)__\n",
    "### __[Lesson 3: Loops, Loops, Loops, Loops...](PythonIntroCh3.ipynb)__\n",
    "### __[Lesson 4: Functions](PythonIntroCh4.ipynb)__\n",
    "### __[Lesson 5: Tuples, Lists, and Dictionaries](PythonIntroCh5.ipynb)__\n",
    "### __[Lesson 6: For Loop](PythonIntroCh6.ipynb)__\n",
    "<br>\n",
    "<br>"
   ]
  },
  {
   "cell_type": "code",
   "execution_count": null,
   "metadata": {},
   "outputs": [],
   "source": []
  }
 ],
 "metadata": {
  "kernelspec": {
   "display_name": "Python 3 (ipykernel)",
   "language": "python",
   "name": "python3"
  },
  "language_info": {
   "codemirror_mode": {
    "name": "ipython",
    "version": 3
   },
   "file_extension": ".py",
   "mimetype": "text/x-python",
   "name": "python",
   "nbconvert_exporter": "python",
   "pygments_lexer": "ipython3",
   "version": "3.10.12"
  }
 },
 "nbformat": 4,
 "nbformat_minor": 2
}
